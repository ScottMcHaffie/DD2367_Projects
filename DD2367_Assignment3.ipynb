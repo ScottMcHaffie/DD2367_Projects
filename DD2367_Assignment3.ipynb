{
 "cells": [
  {
   "cell_type": "markdown",
   "metadata": {},
   "source": [
    "# DD2367 - Programing Assignment III: Quantum Arithmetics, QFT & Quantum walk #\n",
    "\n",
    "Authors: Scott McHaffie, Jai Iyer, Venkatesh Elayaraja"
   ]
  },
  {
   "cell_type": "code",
   "execution_count": 33,
   "metadata": {},
   "outputs": [],
   "source": [
    "# imports\n",
    "import numpy as np\n",
    "import matplotlib.pyplot as plt\n",
    "from circleNotationClass import QubitSystem\n",
    "from qiskit import QuantumCircuit, transpile\n",
    "from qiskit_aer import Aer\n",
    "from qiskit.quantum_info import Statevector\n",
    "\n",
    "\n",
    "DTYPE = np.complex128"
   ]
  },
  {
   "cell_type": "markdown",
   "metadata": {},
   "source": [
    "# **Task 1:** Quantum Arithmetics\n",
    "\n",
    "\n",
    "This exercise aims to implement 3-qubit increment and decrement operators, =+ -=, using the IBM Qiskit framework and its Aer quantum computer simulator.\n",
    "\n",
    "---"
   ]
  },
  {
   "cell_type": "markdown",
   "metadata": {},
   "source": [
    "## **Task 1.1:** Increment and Decrement Operators"
   ]
  },
  {
   "cell_type": "markdown",
   "metadata": {},
   "source": [
    "1. Prepare a superposition of quantum states using HAD QPU instructions. You can decide freely which superposition. This will determine the concurrent increment or decrement operator."
   ]
  },
  {
   "cell_type": "code",
   "execution_count": 34,
   "metadata": {},
   "outputs": [
    {
     "data": {
      "text/plain": [
       "<qiskit.circuit.instructionset.InstructionSet at 0x12bc5cac0>"
      ]
     },
     "execution_count": 34,
     "metadata": {},
     "output_type": "execute_result"
    }
   ],
   "source": [
    "# Function to get statevector from Aer simulator\n",
    "def statevector_from_aer(circ: QuantumCircuit) -> np.ndarray:\n",
    "    backend = Aer.get_backend(\"aer_simulator_statevector\")\n",
    "    tqc = transpile(circ, backend)\n",
    "    result = backend.run(tqc).result()\n",
    "    return np.asarray(result.get_statevector(tqc), dtype=np.complex128)\n",
    "\n",
    "# Initialise 3-qubit register\n",
    "qc_id = QuantumCircuit(3, name=\"R\")\n",
    "\n",
    "# Create superposition  of |0> and |4> states\n",
    "qc_id.h(2)\n"
   ]
  },
  {
   "cell_type": "markdown",
   "metadata": {},
   "source": [
    "2. Plot the quantum states using the circle notation. "
   ]
  },
  {
   "cell_type": "code",
   "execution_count": 35,
   "metadata": {},
   "outputs": [
    {
     "name": "stdout",
     "output_type": "stream",
     "text": [
      "[1. 0. 0. 0. 1. 0. 0. 0.]\n"
     ]
    }
   ],
   "source": [
    "# Please implement the circle notation visualization here\n",
    "qc_id_state = np.sqrt(2) * Statevector(qc_id)\n",
    "print (np.real(qc_id_state))"
   ]
  },
  {
   "cell_type": "markdown",
   "metadata": {},
   "source": [
    "3. Perform an increment operation (by 1) +="
   ]
  },
  {
   "cell_type": "code",
   "execution_count": 36,
   "metadata": {},
   "outputs": [
    {
     "data": {
      "text/plain": [
       "<qiskit.circuit.instructionset.InstructionSet at 0x12bc5e740>"
      ]
     },
     "execution_count": 36,
     "metadata": {},
     "output_type": "execute_result"
    }
   ],
   "source": [
    "## INCREMENT CIRCUIT ##\n",
    "\n",
    "# Step 1: Apply CCNOT | Control Qubits: 0, 1 | Target Qubit: 2\n",
    "qc_id.ccx(0, 1, 2)\n",
    "\n",
    "# Step 2: Apply CNOT | Control Qubits: 0 | Target Qubit: 1\n",
    "qc_id.cx(0, 1)\n",
    "\n",
    "# Step 3: Apply X gate | Target Qubit: 0\n",
    "qc_id.x(0)"
   ]
  },
  {
   "cell_type": "markdown",
   "metadata": {},
   "source": [
    "4. Plot the quantum states using the circle notation. "
   ]
  },
  {
   "cell_type": "code",
   "execution_count": 37,
   "metadata": {},
   "outputs": [
    {
     "name": "stdout",
     "output_type": "stream",
     "text": [
      "[0. 1. 0. 0. 0. 1. 0. 0.]\n"
     ]
    }
   ],
   "source": [
    "# Please implement the circle notation visualization here\n",
    "qc_id_state = np.sqrt(2) * Statevector(qc_id)\n",
    "print (np.real(qc_id_state))"
   ]
  },
  {
   "cell_type": "markdown",
   "metadata": {},
   "source": [
    "5. Perform a decrement operation (by 1) -="
   ]
  },
  {
   "cell_type": "code",
   "execution_count": 38,
   "metadata": {},
   "outputs": [
    {
     "data": {
      "text/plain": [
       "<qiskit.circuit.instructionset.InstructionSet at 0x12bc5d690>"
      ]
     },
     "execution_count": 38,
     "metadata": {},
     "output_type": "execute_result"
    }
   ],
   "source": [
    "## DECREMENT CIRCUIT ##\n",
    "\n",
    "# Step 1: Apply X gate | Target Qubit: 0\n",
    "qc_id.x(0)\n",
    "\n",
    "# Step 2: Apply CNOT | Control Qubits: 0 | Target Qubit: 1\n",
    "qc_id.cx(0, 1)\n",
    "\n",
    "\n",
    "# Step 3: Apply CCNOT | Control Qubits: 0, 1 | Target Qubit: 2\n",
    "qc_id.ccx(0, 1, 2)"
   ]
  },
  {
   "cell_type": "markdown",
   "metadata": {},
   "source": [
    "6. Plot the quantum states using the circle notation. "
   ]
  },
  {
   "cell_type": "code",
   "execution_count": 39,
   "metadata": {},
   "outputs": [
    {
     "name": "stdout",
     "output_type": "stream",
     "text": [
      "[1. 0. 0. 0. 1. 0. 0. 0.]\n"
     ]
    }
   ],
   "source": [
    "# Please implement the circle notation visualization here\n",
    "qc_id_state = np.sqrt(2) * Statevector(qc_id)\n",
    "print (np.real(qc_id_state))"
   ]
  },
  {
   "cell_type": "markdown",
   "metadata": {},
   "source": [
    "## **Task 1.2** - Overflow & Underflow / Negative Numbers"
   ]
  }
 ],
 "metadata": {
  "kernelspec": {
   "display_name": ".venv",
   "language": "python",
   "name": "python3"
  },
  "language_info": {
   "codemirror_mode": {
    "name": "ipython",
    "version": 3
   },
   "file_extension": ".py",
   "mimetype": "text/x-python",
   "name": "python",
   "nbconvert_exporter": "python",
   "pygments_lexer": "ipython3",
   "version": "3.12.6"
  }
 },
 "nbformat": 4,
 "nbformat_minor": 2
}
