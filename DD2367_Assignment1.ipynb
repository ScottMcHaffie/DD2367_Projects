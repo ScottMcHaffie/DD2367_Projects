{
 "cells": [
  {
   "cell_type": "markdown",
   "id": "95063f7d",
   "metadata": {},
   "source": []
  },
  {
   "cell_type": "markdown",
   "id": "4dc73943",
   "metadata": {},
   "source": [
    "# Task 0 #"
   ]
  },
  {
   "cell_type": "code",
   "execution_count": 1,
   "id": "43bd7da9",
   "metadata": {},
   "outputs": [
    {
     "name": "stdout",
     "output_type": "stream",
     "text": [
      "2.1.2 0.41.1 0.17.1\n"
     ]
    }
   ],
   "source": [
    "import qiskit, qiskit_ibm_runtime, qiskit_aer\n",
    "print(qiskit.__version__, qiskit_ibm_runtime.__version__, qiskit_aer.__version__)"
   ]
  },
  {
   "cell_type": "code",
   "execution_count": 2,
   "id": "9201370e",
   "metadata": {},
   "outputs": [
    {
     "ename": "NameError",
     "evalue": "name 'service' is not defined",
     "output_type": "error",
     "traceback": [
      "\u001b[31m---------------------------------------------------------------------------\u001b[39m",
      "\u001b[31mNameError\u001b[39m                                 Traceback (most recent call last)",
      "\u001b[36mCell\u001b[39m\u001b[36m \u001b[39m\u001b[32mIn[2]\u001b[39m\u001b[32m, line 1\u001b[39m\n\u001b[32m----> \u001b[39m\u001b[32m1\u001b[39m cands = \u001b[43mservice\u001b[49m.backends(simulator=\u001b[38;5;28;01mFalse\u001b[39;00m, operational=\u001b[38;5;28;01mTrue\u001b[39;00m, min_num_qubits=\u001b[32m6\u001b[39m)\n\u001b[32m      2\u001b[39m \u001b[38;5;28;01mfor\u001b[39;00m b \u001b[38;5;129;01min\u001b[39;00m cands: \u001b[38;5;28mprint\u001b[39m(b.name, b.num_qubits)\n\u001b[32m      4\u001b[39m A = service.least_busy(simulator=\u001b[38;5;28;01mFalse\u001b[39;00m, operational=\u001b[38;5;28;01mTrue\u001b[39;00m, min_num_qubits=\u001b[32m6\u001b[39m)\n",
      "\u001b[31mNameError\u001b[39m: name 'service' is not defined"
     ]
    }
   ],
   "source": [
    "cands = service.backends(simulator=False, operational=True, min_num_qubits=6)\n",
    "for b in cands: print(b.name, b.num_qubits)\n",
    "\n",
    "A = service.least_busy(simulator=False, operational=True, min_num_qubits=6)\n",
    "B = next(b for b in cands if b.name != A.name)\n",
    "A, B"
   ]
  },
  {
   "cell_type": "code",
   "execution_count": null,
   "id": "809c09ba",
   "metadata": {},
   "outputs": [],
   "source": []
  }
 ],
 "metadata": {
  "kernelspec": {
   "display_name": "DD2367",
   "language": "python",
   "name": "python3"
  },
  "language_info": {
   "codemirror_mode": {
    "name": "ipython",
    "version": 3
   },
   "file_extension": ".py",
   "mimetype": "text/x-python",
   "name": "python",
   "nbconvert_exporter": "python",
   "pygments_lexer": "ipython3",
   "version": "3.11.13"
  }
 },
 "nbformat": 4,
 "nbformat_minor": 5
}
