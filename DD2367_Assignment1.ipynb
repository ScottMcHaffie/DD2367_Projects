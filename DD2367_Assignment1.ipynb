{
 "cells": [
  {
   "cell_type": "markdown",
   "id": "95063f7d",
   "metadata": {},
   "source": []
  },
  {
   "cell_type": "markdown",
   "id": "4dc73943",
   "metadata": {},
   "source": [
    "** Task 0 **"
   ]
  },
  {
   "cell_type": "code",
   "execution_count": 1,
   "id": "43bd7da9",
   "metadata": {},
   "outputs": [
    {
     "name": "stdout",
     "output_type": "stream",
     "text": [
      "2.1.2 0.41.1 0.17.1\n"
     ]
    }
   ],
   "source": [
    "import qiskit, qiskit_ibm_runtime, qiskit_aer\n",
    "print(qiskit.__version__, qiskit_ibm_runtime.__version__, qiskit_aer.__version__)"
   ]
  }
 ],
 "metadata": {
  "kernelspec": {
   "display_name": "DD2367",
   "language": "python",
   "name": "python3"
  },
  "language_info": {
   "codemirror_mode": {
    "name": "ipython",
    "version": 3
   },
   "file_extension": ".py",
   "mimetype": "text/x-python",
   "name": "python",
   "nbconvert_exporter": "python",
   "pygments_lexer": "ipython3",
   "version": "3.11.13"
  }
 },
 "nbformat": 4,
 "nbformat_minor": 5
}
