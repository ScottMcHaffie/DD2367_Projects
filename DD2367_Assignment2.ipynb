{
 "cells": [
  {
   "cell_type": "markdown",
   "id": "95063f7d",
   "metadata": {},
   "source": [
    "# DD2367 - Programming Assignment II: Quantum Circuits and Gates - Bell's Circuit and SWAP Test #\n",
    "\n",
    "Authors: Scott McHaffie, Jai Iyer, Venkatesh Elayaraja"
   ]
  },
  {
   "cell_type": "markdown",
   "id": "30448175",
   "metadata": {},
   "source": [
    "# Task 1 - State‑Vector Quantum Computer Simulator  #"
   ]
  },
  {
   "cell_type": "markdown",
   "id": "0902aef1",
   "metadata": {},
   "source": [
    "## 1.1 - State‑vector representation ##"
   ]
  },
  {
   "cell_type": "code",
   "execution_count": null,
   "id": "35b3e582",
   "metadata": {
    "vscode": {
     "languageId": "plaintext"
    }
   },
   "outputs": [],
   "source": []
  },
  {
   "cell_type": "markdown",
   "id": "399ac9ef",
   "metadata": {},
   "source": []
  },
  {
   "cell_type": "markdown",
   "id": "e0bef338",
   "metadata": {},
   "source": [
    "## 1.2 - Quantum gate implementation ##"
   ]
  },
  {
   "cell_type": "code",
   "execution_count": null,
   "id": "602a6508",
   "metadata": {
    "vscode": {
     "languageId": "plaintext"
    }
   },
   "outputs": [],
   "source": []
  },
  {
   "cell_type": "markdown",
   "id": "078a0373",
   "metadata": {},
   "source": []
  },
  {
   "cell_type": "markdown",
   "id": "470cc9d2",
   "metadata": {},
   "source": [
    "## 1.3 - Circuit simulation: Bell state ##"
   ]
  },
  {
   "cell_type": "code",
   "execution_count": null,
   "id": "63c83661",
   "metadata": {
    "vscode": {
     "languageId": "plaintext"
    }
   },
   "outputs": [],
   "source": []
  },
  {
   "cell_type": "markdown",
   "id": "a76717da",
   "metadata": {},
   "source": []
  },
  {
   "cell_type": "markdown",
   "id": "b5eb4f95",
   "metadata": {},
   "source": [
    "## 1.4 - Output, verification, and circle‑plot comparison ##"
   ]
  },
  {
   "cell_type": "code",
   "execution_count": null,
   "id": "834e17a3",
   "metadata": {
    "vscode": {
     "languageId": "plaintext"
    }
   },
   "outputs": [],
   "source": []
  },
  {
   "cell_type": "markdown",
   "id": "201d95e6",
   "metadata": {},
   "source": []
  },
  {
   "cell_type": "markdown",
   "id": "63b8a64c",
   "metadata": {},
   "source": [
    "# Task 2 - State‑Vector SWAP Test  #"
   ]
  },
  {
   "cell_type": "code",
   "execution_count": null,
   "id": "3d2e9cbb",
   "metadata": {
    "vscode": {
     "languageId": "plaintext"
    }
   },
   "outputs": [],
   "source": []
  },
  {
   "cell_type": "markdown",
   "id": "9a6df9ed",
   "metadata": {},
   "source": []
  },
  {
   "cell_type": "markdown",
   "id": "da3792e0",
   "metadata": {},
   "source": [
    "# Bonus Tasks - Quantum State Comparison with the Multiqubit SWAP Test #"
   ]
  },
  {
   "cell_type": "markdown",
   "id": "08cf533e",
   "metadata": {},
   "source": [
    "## B.1 - Basis vs $|5\\rangle$: design, simulate, evaluate ##"
   ]
  },
  {
   "cell_type": "code",
   "execution_count": null,
   "id": "76ec6fa5",
   "metadata": {
    "vscode": {
     "languageId": "plaintext"
    }
   },
   "outputs": [],
   "source": []
  },
  {
   "cell_type": "markdown",
   "id": "814ac8b4",
   "metadata": {},
   "source": []
  },
  {
   "cell_type": "markdown",
   "id": "26f12c09",
   "metadata": {},
   "source": [
    "## B.2 - Introducing superposition ##"
   ]
  },
  {
   "cell_type": "code",
   "execution_count": null,
   "id": "eeaf96b5",
   "metadata": {
    "vscode": {
     "languageId": "plaintext"
    }
   },
   "outputs": [],
   "source": []
  },
  {
   "cell_type": "markdown",
   "id": "a68a2a10",
   "metadata": {},
   "source": []
  },
  {
   "cell_type": "markdown",
   "id": "4a6dd1d0",
   "metadata": {},
   "source": [
    "# Generative AI Disclosure #"
   ]
  },
  {
   "cell_type": "markdown",
   "id": "c411fd64",
   "metadata": {},
   "source": [
    "We used ChatGPT-5 and ChatGPT-4 for AI assistance during this assignment. A breakdown of the usage per task is shown below:\n",
    "\n",
    "1. Task 1: \n",
    "\n",
    "2. Task 2: \n",
    "\n",
    "3. Bonus: "
   ]
  }
 ],
 "metadata": {
  "kernelspec": {
   "display_name": "DD2367",
   "language": "python",
   "name": "python3"
  },
  "language_info": {
   "codemirror_mode": {
    "name": "ipython",
    "version": 3
   },
   "file_extension": ".py",
   "mimetype": "text/x-python",
   "name": "python",
   "nbconvert_exporter": "python",
   "pygments_lexer": "ipython3",
   "version": "3.11.13"
  }
 },
 "nbformat": 4,
 "nbformat_minor": 5
}
